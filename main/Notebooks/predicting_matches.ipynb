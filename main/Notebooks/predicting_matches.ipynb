{
 "cells": [
  {
   "cell_type": "code",
   "execution_count": 1,
   "metadata": {
    "collapsed": false
   },
   "outputs": [
   ],
   "source": [
    "import pandas as pd\n",
    "import numpy as np\n",
    "import importlib\n",
    "import warnings\n",
    "\n",
    "import make_data\n",
    "\n",
    "importlib.reload(make_data)\n",
    "warnings.filterwarnings(\"ignore\")"
   ]
  },
  {
   "cell_type": "code",
   "execution_count": 10,
   "metadata": {
    "collapsed": false
   },
   "outputs": [
   ],
   "source": [
    "bat = pd.read_csv(\"../Data/all_season_batting_card.csv\")\n",
    "bowl = pd.read_csv(\"../Data/all_season_bowling_card.csv\")\n",
    "full = pd.read_csv(\"../Data/all_season_details.csv\")"
   ]
  },
  {
   "cell_type": "code",
   "execution_count": 11,
   "metadata": {
    "collapsed": false
   },
   "outputs": [
    {
     "data": {
      "text/html": [
       "<div>\n",
       "<style scoped>\n",
       "    .dataframe tbody tr th:only-of-type {\n",
       "        vertical-align: middle;\n",
       "    }\n",
       "\n",
       "    .dataframe tbody tr th {\n",
       "        vertical-align: top;\n",
       "    }\n",
       "\n",
       "    .dataframe thead th {\n",
       "        text-align: right;\n",
       "    }\n",
       "</style>\n",
       "<table border=\"1\" class=\"dataframe\">\n",
       "  <thead>\n",
       "    <tr style=\"text-align: right;\">\n",
       "      <th></th>\n",
       "      <th>season</th>\n",
       "      <th>match_id</th>\n",
       "      <th>batsman1_name</th>\n",
       "      <th>bowler1_name</th>\n",
       "      <th>home_team</th>\n",
       "      <th>away_team</th>\n",
       "      <th>current_innings</th>\n",
       "      <th>runs</th>\n",
       "      <th>ball</th>\n",
       "      <th>venue</th>\n",
       "      <th>...</th>\n",
       "      <th>avg_noballs</th>\n",
       "      <th>total_overs</th>\n",
       "      <th>total_maidens</th>\n",
       "      <th>total_conceded</th>\n",
       "      <th>total_wickets</th>\n",
       "      <th>total_dots</th>\n",
       "      <th>total_fours_c</th>\n",
       "      <th>total_sixes_c</th>\n",
       "      <th>total_wides</th>\n",
       "      <th>total_noballs</th>\n",
       "    </tr>\n",
       "  </thead>\n",
       "  <tbody>\n",
       "    <tr>\n",
       "      <th>0</th>\n",
       "      <td>2008</td>\n",
       "      <td>335982</td>\n",
       "      <td>Ashley Noffke</td>\n",
       "      <td>Ajit Agarkar</td>\n",
       "      <td>RCB</td>\n",
       "      <td>KKR</td>\n",
       "      <td>RCB</td>\n",
       "      <td>2</td>\n",
       "      <td>6</td>\n",
       "      <td>M.Chinnaswamy Stadium, Bengaluru</td>\n",
       "      <td>...</td>\n",
       "      <td>0.047619</td>\n",
       "      <td>130.2</td>\n",
       "      <td>0</td>\n",
       "      <td>1151</td>\n",
       "      <td>29</td>\n",
       "      <td>273</td>\n",
       "      <td>113</td>\n",
       "      <td>41</td>\n",
       "      <td>36</td>\n",
       "      <td>2</td>\n",
       "    </tr>\n",
       "    <tr>\n",
       "      <th>16</th>\n",
       "      <td>2008</td>\n",
       "      <td>335982</td>\n",
       "      <td>Balachandra Akhil</td>\n",
       "      <td>Ajit Agarkar</td>\n",
       "      <td>RCB</td>\n",
       "      <td>KKR</td>\n",
       "      <td>RCB</td>\n",
       "      <td>0</td>\n",
       "      <td>2</td>\n",
       "      <td>M.Chinnaswamy Stadium, Bengaluru</td>\n",
       "      <td>...</td>\n",
       "      <td>0.047619</td>\n",
       "      <td>130.2</td>\n",
       "      <td>0</td>\n",
       "      <td>1151</td>\n",
       "      <td>29</td>\n",
       "      <td>273</td>\n",
       "      <td>113</td>\n",
       "      <td>41</td>\n",
       "      <td>36</td>\n",
       "      <td>2</td>\n",
       "    </tr>\n",
       "    <tr>\n",
       "      <th>32</th>\n",
       "      <td>2008</td>\n",
       "      <td>335982</td>\n",
       "      <td>Cameron White</td>\n",
       "      <td>Ajit Agarkar</td>\n",
       "      <td>RCB</td>\n",
       "      <td>KKR</td>\n",
       "      <td>RCB</td>\n",
       "      <td>3</td>\n",
       "      <td>6</td>\n",
       "      <td>M.Chinnaswamy Stadium, Bengaluru</td>\n",
       "      <td>...</td>\n",
       "      <td>0.047619</td>\n",
       "      <td>130.2</td>\n",
       "      <td>0</td>\n",
       "      <td>1151</td>\n",
       "      <td>29</td>\n",
       "      <td>273</td>\n",
       "      <td>113</td>\n",
       "      <td>41</td>\n",
       "      <td>36</td>\n",
       "      <td>2</td>\n",
       "    </tr>\n",
       "    <tr>\n",
       "      <th>48</th>\n",
       "      <td>2011</td>\n",
       "      <td>501223</td>\n",
       "      <td>David Hussey</td>\n",
       "      <td>Ajit Agarkar</td>\n",
       "      <td>DC</td>\n",
       "      <td>KXIP</td>\n",
       "      <td>KXIP</td>\n",
       "      <td>4</td>\n",
       "      <td>2</td>\n",
       "      <td>Arun Jaitley Stadium, Delhi</td>\n",
       "      <td>...</td>\n",
       "      <td>0.047619</td>\n",
       "      <td>130.2</td>\n",
       "      <td>0</td>\n",
       "      <td>1151</td>\n",
       "      <td>29</td>\n",
       "      <td>273</td>\n",
       "      <td>113</td>\n",
       "      <td>41</td>\n",
       "      <td>36</td>\n",
       "      <td>2</td>\n",
       "    </tr>\n",
       "    <tr>\n",
       "      <th>62</th>\n",
       "      <td>2008</td>\n",
       "      <td>335982</td>\n",
       "      <td>Jacques Kallis</td>\n",
       "      <td>Ajit Agarkar</td>\n",
       "      <td>RCB</td>\n",
       "      <td>KKR</td>\n",
       "      <td>RCB</td>\n",
       "      <td>7</td>\n",
       "      <td>4</td>\n",
       "      <td>M.Chinnaswamy Stadium, Bengaluru</td>\n",
       "      <td>...</td>\n",
       "      <td>0.047619</td>\n",
       "      <td>130.2</td>\n",
       "      <td>0</td>\n",
       "      <td>1151</td>\n",
       "      <td>29</td>\n",
       "      <td>273</td>\n",
       "      <td>113</td>\n",
       "      <td>41</td>\n",
       "      <td>36</td>\n",
       "      <td>2</td>\n",
       "    </tr>\n",
       "  </tbody>\n",
       "</table>\n",
       "<p>5 rows × 41 columns</p>\n",
       "</div>"
      ],
      "text/plain": [
       "    season  match_id      batsman1_name  bowler1_name home_team away_team  \\\n",
       "0     2008    335982      Ashley Noffke  Ajit Agarkar       RCB       KKR   \n",
       "16    2008    335982  Balachandra Akhil  Ajit Agarkar       RCB       KKR   \n",
       "32    2008    335982      Cameron White  Ajit Agarkar       RCB       KKR   \n",
       "48    2011    501223       David Hussey  Ajit Agarkar        DC      KXIP   \n",
       "62    2008    335982     Jacques Kallis  Ajit Agarkar       RCB       KKR   \n",
       "\n",
       "   current_innings  runs  ball                             venue  ...  \\\n",
       "0              RCB     2     6  M.Chinnaswamy Stadium, Bengaluru  ...   \n",
       "16             RCB     0     2  M.Chinnaswamy Stadium, Bengaluru  ...   \n",
       "32             RCB     3     6  M.Chinnaswamy Stadium, Bengaluru  ...   \n",
       "48            KXIP     4     2       Arun Jaitley Stadium, Delhi  ...   \n",
       "62             RCB     7     4  M.Chinnaswamy Stadium, Bengaluru  ...   \n",
       "\n",
       "   avg_noballs total_overs total_maidens  total_conceded  total_wickets  \\\n",
       "0     0.047619       130.2             0            1151             29   \n",
       "16    0.047619       130.2             0            1151             29   \n",
       "32    0.047619       130.2             0            1151             29   \n",
       "48    0.047619       130.2             0            1151             29   \n",
       "62    0.047619       130.2             0            1151             29   \n",
       "\n",
       "    total_dots  total_fours_c  total_sixes_c  total_wides  total_noballs  \n",
       "0          273            113             41           36              2  \n",
       "16         273            113             41           36              2  \n",
       "32         273            113             41           36              2  \n",
       "48         273            113             41           36              2  \n",
       "62         273            113             41           36              2  \n",
       "\n",
       "[5 rows x 41 columns]"
      ]
     },
     "execution_count": 11,
     "metadata": {
     },
     "output_type": "execute_result"
    }
   ],
   "source": [
    "df = make_data.make_data(bat, bowl, full)\n",
    "df = df.dropna()\n",
    "df.head()"
   ]
  },
  {
   "cell_type": "code",
   "execution_count": 12,
   "metadata": {
    "collapsed": false
   },
   "outputs": [
   ],
   "source": [
    "curr_details = pd.read_csv(\"../Data/season_details.csv\")"
   ]
  },
  {
   "cell_type": "code",
   "execution_count": 13,
   "metadata": {
    "collapsed": false
   },
   "outputs": [
    {
     "data": {
      "text/plain": [
       "34"
      ]
     },
     "execution_count": 13,
     "metadata": {
     },
     "output_type": "execute_result"
    }
   ],
   "source": [
    "len(curr_details[\"match_id\"].unique())"
   ]
  },
  {
   "cell_type": "code",
   "execution_count": 14,
   "metadata": {
    "collapsed": false
   },
   "outputs": [
    {
     "data": {
      "text/plain": [
       "array([ True,  True,  True,  True,  True,  True,  True,  True,  True,\n",
       "        True,  True,  True,  True,  True,  True,  True,  True,  True,\n",
       "        True,  True,  True,  True,  True,  True,  True,  True,  True,\n",
       "        True,  True,  True,  True,  True,  True,  True,  True,  True,\n",
       "        True,  True,  True,  True,  True,  True,  True,  True,  True])"
      ]
     },
     "execution_count": 14,
     "metadata": {
     },
     "output_type": "execute_result"
    }
   ],
   "source": [
    "curr_details.columns == full.columns"
   ]
  },
  {
   "cell_type": "code",
   "execution_count": 33,
   "metadata": {
    "collapsed": false
   },
   "outputs": [
   ],
   "source": [
    "rr = [\n",
    "    \"Yashasvi Jaiswal\",\n",
    "    \"Jos Buttler\",\n",
    "    \"Sanju Samson\",\n",
    "    \"Devdutt Padikkal\",\n",
    "    \"Ravichandran Ashwin\",\n",
    "    \"Shimron Hetmyer\",\n",
    "    \"Riyan Parag\",\n",
    "    \"Trent Boult\",\n",
    "    \"Prasidh Krishna\",\n",
    "    \"Yuzvendra Chahal\",\n",
    "    \"Obed McCoy\"\n",
    "]\n",
    "\n",
    "rcb = [\n",
    "    \"Virat Kohli\",\n",
    "    \"Faf du Plessis\",\n",
    "    \"Glenn Maxwell\",\n",
    "    \"Dinesh Karthik\",\n",
    "    \"Rajat Patidar\",\n",
    "    \"Mahipal Lomror\",\n",
    "    \"Shahbaz Ahmed\",\n",
    "    \"Harshal Patel\",\n",
    "    \"Wanindu Hasaranga de Silva\",\n",
    "    \"Josh Hazlewood\",\n",
    "    \"Siddarth Kaul\"\n",
    "]"
   ]
  },
  {
   "cell_type": "code",
   "execution_count": 34,
   "metadata": {
    "collapsed": false
   },
   "outputs": [
    {
     "name": "stdout",
     "output_type": "stream",
     "text": [
      "Josh Hazlewood\n"
     ]
    }
   ],
   "source": [
    "for player in rcb:\n",
    "    if (df[\"batsman1_name\"].isin([player])).sum() < 1:\n",
    "        print(player)"
   ]
  },
  {
   "cell_type": "code",
   "execution_count": 35,
   "metadata": {
    "collapsed": false
   },
   "outputs": [
    {
     "data": {
      "text/plain": [
       "Index(['season', 'match_id', 'batsman1_name', 'bowler1_name', 'home_team',\n",
       "       'away_team', 'current_innings', 'runs', 'ball', 'venue', 'city',\n",
       "       'country', 'batsman_name', 'avg_runs', 'avg_bf', 'avg_fours',\n",
       "       'avg_sixes', 'avg_sr', 'total_runs', 'total_bf', 'total_fours',\n",
       "       'total_sixes', 'bowler_name', 'avg_maidens', 'avg_conceded',\n",
       "       'avg_wickets', 'avg_er', 'avg_dots', 'avg_fours_c', 'avg_sixes_c',\n",
       "       'avg_wides', 'avg_noballs', 'total_overs', 'total_maidens',\n",
       "       'total_conceded', 'total_wickets', 'total_dots', 'total_fours_c',\n",
       "       'total_sixes_c', 'total_wides', 'total_noballs'],\n",
       "      dtype='object')"
      ]
     },
     "execution_count": 35,
     "metadata": {
     },
     "output_type": "execute_result"
    }
   ],
   "source": [
    "df.columns"
   ]
  },
  {
   "cell_type": "code",
   "execution_count": 0,
   "metadata": {
    "collapsed": false
   },
   "outputs": [
   ],
   "source": [
   ]
  }
 ],
 "metadata": {
  "kernelspec": {
   "display_name": "Python 3 (Ubuntu Linux)",
   "language": "python",
   "name": "python3-ubuntu",
   "resource_dir": "/usr/local/share/jupyter/kernels/python3-ubuntu"
  },
  "language_info": {
   "codemirror_mode": {
    "name": "ipython",
    "version": 3
   },
   "file_extension": ".py",
   "mimetype": "text/x-python",
   "name": "python",
   "nbconvert_exporter": "python",
   "pygments_lexer": "ipython3",
   "version": "3.8.10"
  }
 },
 "nbformat": 4,
 "nbformat_minor": 4
}